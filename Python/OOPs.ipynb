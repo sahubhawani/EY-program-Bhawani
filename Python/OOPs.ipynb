{
 "cells": [
  {
   "cell_type": "code",
   "execution_count": 1,
   "metadata": {},
   "outputs": [],
   "source": [
    "# Keep the details of the students in lists\n",
    "student_names = []  # list to store names\n",
    "roll_nums = []\n",
    "branches = []\n",
    "paid_amounts = []"
   ]
  },
  {
   "cell_type": "code",
   "execution_count": 2,
   "metadata": {},
   "outputs": [],
   "source": [
    "def create_student(name, roll_no, branch, paid_amount):\n",
    "    student_names.append(name)\n",
    "    roll_nums.append(roll_no)\n",
    "    branches.append(branch)\n",
    "    paid_amounts.append(paid_amount)"
   ]
  },
  {
   "cell_type": "code",
   "execution_count": 6,
   "metadata": {},
   "outputs": [],
   "source": [
    "create_student(\"Sibani\", 22, \"CSE\", 15000)"
   ]
  },
  {
   "cell_type": "code",
   "execution_count": 7,
   "metadata": {},
   "outputs": [
    {
     "name": "stdout",
     "output_type": "stream",
     "text": [
      "['Bhawani', 'Sibani'] \n",
      " [12, 22] \n",
      " ['CSE', 'CSE'] \n",
      " [12000, 15000]\n"
     ]
    }
   ],
   "source": [
    "print(student_names,\"\\n\",roll_nums, \"\\n\", branches, \"\\n\",paid_amounts )"
   ]
  },
  {
   "cell_type": "code",
   "execution_count": null,
   "metadata": {},
   "outputs": [],
   "source": []
  },
  {
   "cell_type": "code",
   "execution_count": null,
   "metadata": {},
   "outputs": [],
   "source": []
  },
  {
   "cell_type": "code",
   "execution_count": null,
   "metadata": {},
   "outputs": [],
   "source": []
  },
  {
   "cell_type": "markdown",
   "metadata": {},
   "source": [
    "## Object Oriented programming"
   ]
  },
  {
   "cell_type": "code",
   "execution_count": null,
   "metadata": {},
   "outputs": [],
   "source": [
    "\"\"\"\n",
    "Create a class of studnets where \n",
    "properties are:\n",
    "name, branch, paid_amount, roll_no\n",
    "\n",
    "methods/functions:\n",
    "get_name()\n",
    "get_paid_amount()\n",
    "get_roll_no()\n",
    "get_summary()\n",
    "\"\"\""
   ]
  },
  {
   "cell_type": "code",
   "execution_count": 17,
   "metadata": {},
   "outputs": [],
   "source": [
    "class student:\n",
    "    def __init__(self, name, roll_no, branch, paid_amount, passing_year):\n",
    "        self.name = name\n",
    "        self.roll_no = roll_no\n",
    "        self.branch = branch\n",
    "        self.paid_amount = paid_amount\n",
    "        self.passing_year = passing_year\n",
    "    \n",
    "    def get_summary(self):\n",
    "        print(f\"The name of the student is {self.name} \\n His roll number is {self.roll_no} \\n He belongs to {self.branch} branch and has paid amount as Rs.{self.paid_amount}.\")\n"
   ]
  },
  {
   "cell_type": "code",
   "execution_count": 18,
   "metadata": {},
   "outputs": [],
   "source": [
    "sibani = student(\"Sibani\", 14, \"CSE\", 10000, 2022)\n",
    "bhawani = student(\"Bhawani\", 12, \"CSE\", 12000, 2022)"
   ]
  },
  {
   "cell_type": "code",
   "execution_count": 19,
   "metadata": {},
   "outputs": [
    {
     "ename": "AttributeError",
     "evalue": "'student' object has no attribute 'passing_year'",
     "output_type": "error",
     "traceback": [
      "\u001b[1;31m---------------------------------------------------------------------------\u001b[0m",
      "\u001b[1;31mAttributeError\u001b[0m                            Traceback (most recent call last)",
      "\u001b[1;32mc:\\Users\\bhawa\\Desktop\\python basics\\OOPs.ipynb Cell 12\u001b[0m line \u001b[0;36m1\n\u001b[1;32m----> <a href='vscode-notebook-cell:/c%3A/Users/bhawa/Desktop/python%20basics/OOPs.ipynb#X22sZmlsZQ%3D%3D?line=0'>1</a>\u001b[0m bhawani\u001b[39m.\u001b[39mpassing_year\n",
      "\u001b[1;31mAttributeError\u001b[0m: 'student' object has no attribute 'passing_year'"
     ]
    }
   ],
   "source": [
    "bhawani.passing_year"
   ]
  },
  {
   "cell_type": "code",
   "execution_count": 16,
   "metadata": {},
   "outputs": [
    {
     "name": "stdout",
     "output_type": "stream",
     "text": [
      "The name of the student is Sibani \n",
      " His roll number is 14 \n",
      " He belongs to CSE branch and has paid amount as Rs.20000.\n"
     ]
    }
   ],
   "source": [
    "sibani.paid_amount = 20000\n",
    "sibani.get_summary()"
   ]
  },
  {
   "cell_type": "code",
   "execution_count": 8,
   "metadata": {},
   "outputs": [],
   "source": [
    "sibani.paid_amount = sibani.paid_amount+500"
   ]
  },
  {
   "cell_type": "code",
   "execution_count": 9,
   "metadata": {},
   "outputs": [
    {
     "data": {
      "text/plain": [
       "10500"
      ]
     },
     "execution_count": 9,
     "metadata": {},
     "output_type": "execute_result"
    }
   ],
   "source": [
    "sibani.paid_amount"
   ]
  },
  {
   "cell_type": "code",
   "execution_count": 5,
   "metadata": {},
   "outputs": [
    {
     "name": "stdout",
     "output_type": "stream",
     "text": [
      "Bhawani\n",
      "CSE\n",
      "12\n",
      "12100\n"
     ]
    }
   ],
   "source": [
    "print(bhawani.name)\n",
    "print(bhawani.branch)\n",
    "print(bhawani.roll_no)\n",
    "print(bhawani.paid_amount)"
   ]
  },
  {
   "cell_type": "code",
   "execution_count": null,
   "metadata": {},
   "outputs": [],
   "source": []
  },
  {
   "cell_type": "markdown",
   "metadata": {},
   "source": [
    "### Variables vs Properties and functions vs methods"
   ]
  },
  {
   "cell_type": "code",
   "execution_count": 1,
   "metadata": {},
   "outputs": [],
   "source": [
    "# Create variable for student with name \"Hari\"\n",
    "name = \"Hari\"\n",
    "roll_no = 12\n",
    "branch = \"CSE\"\n",
    "paid_amount = 12000\n",
    "\n",
    "# Create some function for the student\n",
    "def get_name_roll():\n",
    "    print(f\"The name of the student is {name} and his/her roll no is {roll_no}\")\n",
    "\n",
    "def get_summary():\n",
    "    print(f\"The student name is {name} and roll number is {roll_no} \\n he is from {branch} and his paid amount is {paid_amount}\")\n",
    "    \n"
   ]
  },
  {
   "cell_type": "code",
   "execution_count": 2,
   "metadata": {},
   "outputs": [
    {
     "name": "stdout",
     "output_type": "stream",
     "text": [
      "The name of the student is Hari and his/her roll no is 12\n"
     ]
    }
   ],
   "source": [
    "get_name_roll()"
   ]
  },
  {
   "cell_type": "code",
   "execution_count": 3,
   "metadata": {},
   "outputs": [
    {
     "name": "stdout",
     "output_type": "stream",
     "text": [
      "The student name is Hari and roll number is 12 \n",
      " he is from CSE and his paid amount is 12000\n"
     ]
    }
   ],
   "source": [
    "get_summary()"
   ]
  },
  {
   "cell_type": "code",
   "execution_count": 13,
   "metadata": {},
   "outputs": [],
   "source": [
    "# Create a class for student\n",
    "class student:\n",
    "    def __init__(self, name, roll_no, branch, paid_amount):\n",
    "        self.name = name\n",
    "        self.roll_no = roll_no\n",
    "        self.branch = branch\n",
    "        self.paid_amount = paid_amount\n",
    "    \n",
    "    def get_name_roll(self):\n",
    "        print(f\"The name of the student is {self.name} and his/her roll no is {self.roll_no}\")\n",
    "\n",
    "    def get_summary(self):\n",
    "        print(f\"The student name is {self.name} and roll number is {self.roll_no} \\n he is from {self.branch} and his paid amount is {self.paid_amount}\")\n",
    "    \n",
    "    \n",
    "    "
   ]
  },
  {
   "cell_type": "code",
   "execution_count": 14,
   "metadata": {},
   "outputs": [],
   "source": [
    "student1 = student(\"Hari\", 13, \"CSE\", 10000)\n",
    "student2 = student(\"Shyam\", 14, \"EC\", 14000)"
   ]
  },
  {
   "cell_type": "code",
   "execution_count": 6,
   "metadata": {},
   "outputs": [
    {
     "name": "stdout",
     "output_type": "stream",
     "text": [
      "The name of the student is Hari and his/her roll no is 12\n"
     ]
    }
   ],
   "source": [
    "student1.get_name_roll()"
   ]
  },
  {
   "cell_type": "code",
   "execution_count": 15,
   "metadata": {},
   "outputs": [
    {
     "name": "stdout",
     "output_type": "stream",
     "text": [
      "The student name is Shyam and roll number is 14 \n",
      " he is from EC and his paid amount is 14000\n"
     ]
    }
   ],
   "source": [
    "student2.get_summary()"
   ]
  },
  {
   "cell_type": "markdown",
   "metadata": {},
   "source": [
    "### Create a software for the college to collect the data of every person and store the data."
   ]
  },
  {
   "cell_type": "code",
   "execution_count": null,
   "metadata": {},
   "outputs": [],
   "source": [
    "class teacher:\n",
    "    def __init__(self,name, id_no, DOB, mobile_no, dept):\n",
    "        self.name = name\n",
    "        self.id_no = id_no\n",
    "        self.DOB = DOB\n",
    "        self.mobile_no = mobile_no\n",
    "        self.dept = dept\n",
    "    \n",
    "    def get_summary(self):\n",
    "        print(f\"The name of the person is {self.name} and id is {self.id_no} \\n and the DOB is {self.DOB}, mobile number is {self.mobile_no} and \\n the department is {self.dept}.\")\n",
    "\n",
    "class non_teacher:\n",
    "    def __init__(self,name, id_no, DOB, mobile_no ):\n",
    "        self.name = name\n",
    "        self.id_no = id_no\n",
    "        self.DOB = DOB\n",
    "        self.mobile_no = mobile_no\n",
    "    \n",
    "    def get_summary(self):\n",
    "        print(f\"The name of the person is {self.name} and id is {self.id_no} \\n and the DOB is {self.DOB} and  mobile number is {self.mobile_no}.\")\n",
    "\n",
    "class student:\n",
    "    def __init__(self,name, id_no, DOB, mobile_no,dept, paid_amount, passing_year ):\n",
    "        self.name = name\n",
    "        self.id_no = id_no\n",
    "        self.DOB = DOB\n",
    "        self.mobile_no = mobile_no\n",
    "        self.dept = dept\n",
    "        self.paid_amount = paid_amount\n",
    "        self.passing_year = passing_year\n",
    "    \n",
    "    def get_summary(self):\n",
    "        print(f\"The name of the person is {self.name} and id is {self.id_no} \\n and the DOB is {self.DOB},  mobile number is {self.mobile_no} \\n department is {self.dept}, the paid amount is {self.paid_amount} and the passing year is {self.passing_year}.\")"
   ]
  },
  {
   "cell_type": "code",
   "execution_count": 26,
   "metadata": {},
   "outputs": [],
   "source": [
    "class person:\n",
    "    def __init__(self,name, id_no, DOB, mobile_no ):\n",
    "        self.name = name\n",
    "        self.id_no = id_no\n",
    "        self.DOB = DOB\n",
    "        self.mobile_no = mobile_no\n",
    "    \n",
    "    def get_summary(self):\n",
    "        print(f\"The name of the person is {self.name} and id is {self.id_no} \\n and the DOB is {self.DOB} and  mobile number is {self.mobile_no}.\")\n",
    "\n",
    "    \n",
    "\n",
    "class teacher(person):\n",
    "    def __init__(self,name, id_no, DOB, mobile_no, dept):\n",
    "        super().__init__(name, id_no, DOB, mobile_no)\n",
    "        self.dept = dept\n",
    "\n",
    "class non_teacher(person):\n",
    "    def __init__(self, name, id_no, DOB, mobile_no):\n",
    "        super().__init__(name, id_no, DOB, mobile_no)\n",
    "\n",
    "class student(teacher):\n",
    "    def __init__(self, name, id_no, DOB, mobile_no, dept, paid_amount, passing_year):\n",
    "        super().__init__(name, id_no, DOB, mobile_no, dept)\n",
    "        self.paid_amount = paid_amount\n",
    "        self.passing_year = passing_year\n",
    "        \n",
    "        \n"
   ]
  },
  {
   "cell_type": "code",
   "execution_count": 27,
   "metadata": {},
   "outputs": [],
   "source": [
    "teacher1 = teacher(\"bhawani\", 12, 18011996,9937530384,\"CSE\")\n",
    "student1 = student(\"Hari\",17, 12112000,1234567890,\"CSE\",12000,2024)"
   ]
  },
  {
   "cell_type": "code",
   "execution_count": 28,
   "metadata": {},
   "outputs": [
    {
     "name": "stdout",
     "output_type": "stream",
     "text": [
      "The name of the person is bhawani and id is 12 \n",
      " and the DOB is 18011996 and  mobile number is 9937530384.\n"
     ]
    }
   ],
   "source": [
    "teacher1.get_summary()"
   ]
  },
  {
   "cell_type": "code",
   "execution_count": 20,
   "metadata": {},
   "outputs": [
    {
     "name": "stdout",
     "output_type": "stream",
     "text": [
      "The name of the person is Hari and id is 17 \n",
      " and the DOB is 12112000 and  mobile number is 1234567890.\n"
     ]
    }
   ],
   "source": [
    "student1.get_summary()"
   ]
  },
  {
   "cell_type": "code",
   "execution_count": null,
   "metadata": {},
   "outputs": [],
   "source": []
  }
 ],
 "metadata": {
  "kernelspec": {
   "display_name": "base",
   "language": "python",
   "name": "python3"
  },
  "language_info": {
   "codemirror_mode": {
    "name": "ipython",
    "version": 3
   },
   "file_extension": ".py",
   "mimetype": "text/x-python",
   "name": "python",
   "nbconvert_exporter": "python",
   "pygments_lexer": "ipython3",
   "version": "3.11.5"
  }
 },
 "nbformat": 4,
 "nbformat_minor": 2
}
