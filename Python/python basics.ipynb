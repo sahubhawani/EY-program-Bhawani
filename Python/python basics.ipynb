{
 "cells": [
  {
   "cell_type": "markdown",
   "metadata": {},
   "source": [
    "## Python\n",
    "### 1. Variables in python\n"
   ]
  },
  {
   "cell_type": "code",
   "execution_count": null,
   "metadata": {},
   "outputs": [],
   "source": []
  },
  {
   "cell_type": "code",
   "execution_count": 2,
   "metadata": {},
   "outputs": [],
   "source": [
    "# variable rules\n",
    "x =10\n",
    "y =100.0"
   ]
  },
  {
   "cell_type": "markdown",
   "metadata": {},
   "source": [
    "### 2. Conditional statement"
   ]
  },
  {
   "cell_type": "code",
   "execution_count": null,
   "metadata": {},
   "outputs": [],
   "source": []
  },
  {
   "cell_type": "markdown",
   "metadata": {},
   "source": [
    "### 3. Loop statements"
   ]
  },
  {
   "cell_type": "markdown",
   "metadata": {},
   "source": [
    "#### 3.2 While loop"
   ]
  },
  {
   "cell_type": "code",
   "execution_count": 3,
   "metadata": {},
   "outputs": [
    {
     "name": "stdout",
     "output_type": "stream",
     "text": [
      "condition not satisfied\n"
     ]
    }
   ],
   "source": [
    "# While loop with else\n",
    "x=10\n",
    "while x<10:\n",
    "    print(\"hello\")\n",
    "else:\n",
    "    print(\"condition not satisfied\")"
   ]
  },
  {
   "cell_type": "markdown",
   "metadata": {},
   "source": [
    "### 4. Defining function"
   ]
  },
  {
   "cell_type": "code",
   "execution_count": 4,
   "metadata": {},
   "outputs": [],
   "source": [
    "# Write a code to generate fibonacci series till 10th term\n",
    "def fibonacci(n):\n",
    "    x1=0\n",
    "    x2=1\n",
    "    fibo = [x1, x2]\n",
    "    for i in range(n-2):\n",
    "        x3=x1+x2\n",
    "        x1=x2\n",
    "        x2=x3\n",
    "        fibo.append(x3)\n",
    "    return fibo"
   ]
  },
  {
   "cell_type": "code",
   "execution_count": 5,
   "metadata": {},
   "outputs": [
    {
     "name": "stdout",
     "output_type": "stream",
     "text": [
      "[0, 1, 1, 2, 3, 5, 8, 13, 21, 34]\n"
     ]
    }
   ],
   "source": [
    "x = fibonacci(10)\n",
    "print(x)"
   ]
  },
  {
   "cell_type": "code",
   "execution_count": 6,
   "metadata": {},
   "outputs": [],
   "source": [
    "# Basic structure of a function\n",
    "\n",
    "def hello(name):\n",
    "    print(\"Hi Good morning mr/miss \", name)"
   ]
  },
  {
   "cell_type": "code",
   "execution_count": 7,
   "metadata": {},
   "outputs": [
    {
     "name": "stdout",
     "output_type": "stream",
     "text": [
      "Hi Good morning mr/miss  Bhawani\n"
     ]
    }
   ],
   "source": [
    "hello(\"Bhawani\")"
   ]
  },
  {
   "cell_type": "code",
   "execution_count": 8,
   "metadata": {},
   "outputs": [
    {
     "data": {
      "text/plain": [
       "[0,\n",
       " 1,\n",
       " 1,\n",
       " 2,\n",
       " 3,\n",
       " 5,\n",
       " 8,\n",
       " 13,\n",
       " 21,\n",
       " 34,\n",
       " 55,\n",
       " 89,\n",
       " 144,\n",
       " 233,\n",
       " 377,\n",
       " 610,\n",
       " 987,\n",
       " 1597,\n",
       " 2584,\n",
       " 4181,\n",
       " 6765,\n",
       " 10946,\n",
       " 17711,\n",
       " 28657,\n",
       " 46368,\n",
       " 75025,\n",
       " 121393,\n",
       " 196418,\n",
       " 317811,\n",
       " 514229]"
      ]
     },
     "execution_count": 8,
     "metadata": {},
     "output_type": "execute_result"
    }
   ],
   "source": [
    "fibonacci(30)"
   ]
  },
  {
   "cell_type": "code",
   "execution_count": 9,
   "metadata": {},
   "outputs": [],
   "source": [
    "# create a function to generate factorial of n\n",
    "def factorial(k):\n",
    "    result = 1\n",
    "    while k!=1:\n",
    "        result = result*k\n",
    "        k=k-1\n",
    "    return result\n"
   ]
  },
  {
   "cell_type": "code",
   "execution_count": 10,
   "metadata": {},
   "outputs": [
    {
     "data": {
      "text/plain": [
       "24"
      ]
     },
     "execution_count": 10,
     "metadata": {},
     "output_type": "execute_result"
    }
   ],
   "source": [
    "factorial(4)"
   ]
  },
  {
   "cell_type": "code",
   "execution_count": 11,
   "metadata": {},
   "outputs": [],
   "source": [
    "x=15"
   ]
  },
  {
   "cell_type": "markdown",
   "metadata": {},
   "source": [
    "### Lambda function"
   ]
  },
  {
   "cell_type": "code",
   "execution_count": 12,
   "metadata": {},
   "outputs": [],
   "source": [
    "y = lambda x,z:(x-1)*z"
   ]
  },
  {
   "cell_type": "code",
   "execution_count": 13,
   "metadata": {},
   "outputs": [
    {
     "data": {
      "text/plain": [
       "3"
      ]
     },
     "execution_count": 13,
     "metadata": {},
     "output_type": "execute_result"
    }
   ],
   "source": [
    "y(2,3)"
   ]
  },
  {
   "cell_type": "code",
   "execution_count": 14,
   "metadata": {},
   "outputs": [],
   "source": [
    "# list, tuple, set, dictionary\n",
    "list1 = [1,1,2,3,\"hello\", \"hi\", \"bye\"]\n",
    "tuple1 = (1,1,2,3,\"hello\", \"hi\", \"bye\")\n",
    "set1 = {1,1,2,3,\"hello\", \"hi\", \"bye\"}\n",
    "dict1 = {\"a\":1,\"b\":1,\"c\":2,\"d\":3,\"e\":\"hello\",\"f\":\"hi\",\"g\": \"bye\"}"
   ]
  },
  {
   "cell_type": "code",
   "execution_count": 15,
   "metadata": {},
   "outputs": [
    {
     "name": "stdout",
     "output_type": "stream",
     "text": [
      "[1, 4, 2, 3, 'hello', 'hi', 'bye']\n"
     ]
    }
   ],
   "source": [
    "list1[1]=4\n",
    "print(list1)"
   ]
  },
  {
   "cell_type": "code",
   "execution_count": 16,
   "metadata": {},
   "outputs": [
    {
     "name": "stdout",
     "output_type": "stream",
     "text": [
      "(1, 1, 2, 3, 'hello', 'hi', 'bye')\n"
     ]
    }
   ],
   "source": [
    "print(tuple1)"
   ]
  },
  {
   "cell_type": "code",
   "execution_count": 17,
   "metadata": {},
   "outputs": [
    {
     "name": "stdout",
     "output_type": "stream",
     "text": [
      "{1, 2, 3, 'hi', 'bye', 'hello'}\n"
     ]
    }
   ],
   "source": [
    "print(set1)"
   ]
  },
  {
   "cell_type": "code",
   "execution_count": 18,
   "metadata": {},
   "outputs": [
    {
     "data": {
      "text/plain": [
       "'hi'"
      ]
     },
     "execution_count": 18,
     "metadata": {},
     "output_type": "execute_result"
    }
   ],
   "source": [
    "dict1[\"f\"]"
   ]
  },
  {
   "cell_type": "markdown",
   "metadata": {},
   "source": [
    "#### List, Dictionary, Tuples and Set"
   ]
  },
  {
   "cell_type": "code",
   "execution_count": 19,
   "metadata": {},
   "outputs": [],
   "source": [
    "student_details_list = [\"Bhawani\", \"CSE\", \"19\"]\n",
    "student_details_dict = {\"name\":\"Bhawani\", \"branch\":\"CSE\", \"roll no\": 19}"
   ]
  },
  {
   "cell_type": "code",
   "execution_count": 20,
   "metadata": {},
   "outputs": [
    {
     "data": {
      "text/plain": [
       "19"
      ]
     },
     "execution_count": 20,
     "metadata": {},
     "output_type": "execute_result"
    }
   ],
   "source": [
    "student_details_dict[\"roll no\"]"
   ]
  },
  {
   "cell_type": "code",
   "execution_count": 21,
   "metadata": {},
   "outputs": [],
   "source": [
    "student_details_tuple = (\"Bhawani\", \"CSE\", \"19\", \"19\")\n",
    "student_details_set = {\"Bhawani\", \"CSE\", \"19\", \"19\"}"
   ]
  },
  {
   "cell_type": "code",
   "execution_count": 22,
   "metadata": {},
   "outputs": [
    {
     "data": {
      "text/plain": [
       "'19'"
      ]
     },
     "execution_count": 22,
     "metadata": {},
     "output_type": "execute_result"
    }
   ],
   "source": [
    "student_details_tuple[2]"
   ]
  },
  {
   "cell_type": "markdown",
   "metadata": {},
   "source": [
    "#### List and string slicing"
   ]
  },
  {
   "cell_type": "code",
   "execution_count": 23,
   "metadata": {},
   "outputs": [],
   "source": [
    "student_details_list = [\"Bhawani\", \"CSE\", \"19\", \"vaigai\", \"22\"]"
   ]
  },
  {
   "cell_type": "code",
   "execution_count": 24,
   "metadata": {},
   "outputs": [
    {
     "data": {
      "text/plain": [
       "['CSE', '19']"
      ]
     },
     "execution_count": 24,
     "metadata": {},
     "output_type": "execute_result"
    }
   ],
   "source": [
    "student_details_list[1:3]"
   ]
  },
  {
   "cell_type": "code",
   "execution_count": 30,
   "metadata": {},
   "outputs": [],
   "source": [
    "# String\n",
    "dob = input(\"please type your DOB in ddmmyyyy format\")\n",
    "yob = dob[4:8]\n",
    "yob_int = int(yob)\n",
    "type(yob_int)\n",
    "age = 2023 -yob_int\n",
    "print(age)\n"
   ]
  },
  {
   "cell_type": "code",
   "execution_count": 38,
   "metadata": {},
   "outputs": [
    {
     "name": "stdout",
     "output_type": "stream",
     "text": [
      "27\n"
     ]
    }
   ],
   "source": [
    "days = 10005\n",
    "age_in_year = days//365\n",
    "print(age_in_year)"
   ]
  },
  {
   "cell_type": "markdown",
   "metadata": {},
   "source": [
    "#### Type casting"
   ]
  },
  {
   "cell_type": "code",
   "execution_count": null,
   "metadata": {},
   "outputs": [],
   "source": [
    "yob_int = int(yob)\n",
    "type(yob_int)\n",
    "age = 2023 -yob_int\n",
    "print(age)"
   ]
  },
  {
   "cell_type": "code",
   "execution_count": 39,
   "metadata": {},
   "outputs": [
    {
     "name": "stdout",
     "output_type": "stream",
     "text": [
      "27\n"
     ]
    }
   ],
   "source": [
    "# Define a function that will take user input and calculate age. \n",
    "def calculate_age():\n",
    "    # take user input  in ddmmyyyy format\n",
    "    dob = input(\"Please type your age in ddmmyyyyy format:\")\n",
    "    # Extract year of birth using slicing technique\n",
    "    yob = dob[4:8]\n",
    "    # Type cast the year of birth to integer\n",
    "    yob = int(yob)\n",
    "    # Calculate age\n",
    "    age = 2023-yob\n",
    "    # print age\n",
    "    print(age)\n",
    "\n",
    "calculate_age()"
   ]
  },
  {
   "cell_type": "code",
   "execution_count": 40,
   "metadata": {},
   "outputs": [
    {
     "name": "stdout",
     "output_type": "stream",
     "text": [
      "The age is 27 year,9 month, 10 days\n"
     ]
    }
   ],
   "source": [
    "# Define a function that will take user input and advanec calculate age. \n",
    "def calculate_advance_age():\n",
    "    # take user input  in ddmmyyyy format\n",
    "    dob = input(\"Please type your age in ddmmyyyyy format:\")\n",
    "\n",
    "    # Extract year of birth using slicing technique\n",
    "    yob = dob[4:8]\n",
    "    mob = dob[2:4]\n",
    "    day_b =dob[0:2]\n",
    "\n",
    "    # Type cast the year of birth to integer\n",
    "    yob = int(yob)\n",
    "    mob = int(mob)\n",
    "    day_b = int(day_b)\n",
    "\n",
    "    # Convert to days\n",
    "    birth_days = 365*yob +30*mob+day_b\n",
    "    current_days = 365*2023 +30*10+28\n",
    "\n",
    "    # Calculate age in days\n",
    "    age_days = current_days - birth_days\n",
    "\n",
    "    # convert to age in year\n",
    "    age_year = age_days//365\n",
    "    reminder_days = age_days%365\n",
    "    age_month = reminder_days//30\n",
    "    age_day = reminder_days%30\n",
    "    \n",
    "    print(f\"The age is {age_year} year,{age_month} month, {age_day} days\")\n",
    "\n",
    "calculate_advance_age()"
   ]
  },
  {
   "cell_type": "code",
   "execution_count": null,
   "metadata": {},
   "outputs": [],
   "source": [
    "# Define a function that will take user input and calculate age with month and day also."
   ]
  },
  {
   "cell_type": "markdown",
   "metadata": {},
   "source": [
    "#### String formatting"
   ]
  },
  {
   "cell_type": "code",
   "execution_count": 7,
   "metadata": {},
   "outputs": [
    {
     "name": "stdout",
     "output_type": "stream",
     "text": [
      "This certificate is awarded to bhawani with roll number 12 for successfully \n",
      " completing the Data analytics course with 88% marks in the offline Data \n",
      " analytics course provieded by EY GDS. \n",
      "\n",
      "This certificate is awarded to Sibani with roll number 45 for successfully \n",
      " completing the Data analytics course with 95% marks in the offline Data \n",
      " analytics course provieded by EY GDS. \n",
      "\n",
      "This certificate is awarded to raju with roll number 75 for successfully \n",
      " completing the Data analytics course with 25% marks in the offline Data \n",
      " analytics course provieded by EY GDS. \n",
      "\n"
     ]
    }
   ],
   "source": [
    "names=[\"bhawani\", \"Sibani\", \"raju\"]\n",
    "roll_nos = [12, 45, 75]\n",
    "percentages = [88, 95, 25]\n",
    "for name,roll_no, percentage in zip(names, roll_nos, percentages):\n",
    "    print(f\"This certificate is awarded to {name} with roll number {roll_no} for successfully \\n completing the Data analytics course with {percentage}% marks in the offline Data \\n analytics course provieded by EY GDS. \\n\")"
   ]
  },
  {
   "cell_type": "code",
   "execution_count": 10,
   "metadata": {},
   "outputs": [
    {
     "name": "stdout",
     "output_type": "stream",
     "text": [
      "Bhawani Shankar\n"
     ]
    }
   ],
   "source": [
    "first_name = \"Bhawani\"\n",
    "middle_name = \"Shankar\"\n",
    "full_name = first_name+\" \"+middle_name\n",
    "print(full_name)"
   ]
  },
  {
   "cell_type": "code",
   "execution_count": 11,
   "metadata": {},
   "outputs": [
    {
     "name": "stdout",
     "output_type": "stream",
     "text": [
      "['hello', 1, 5, 'c', 'hi', 17, 20]\n"
     ]
    }
   ],
   "source": [
    "list1 = [\"hello\", 1, 5, \"c\"]\n",
    "list2 = [\"hi\", 17, 20]\n",
    "list3 = list1+list2\n",
    "print(list3)"
   ]
  },
  {
   "cell_type": "code",
   "execution_count": null,
   "metadata": {},
   "outputs": [],
   "source": [
    "user = \"Bhawani\"\n",
    "gretings = f\"good morning {user}\""
   ]
  },
  {
   "cell_type": "code",
   "execution_count": 4,
   "metadata": {},
   "outputs": [
    {
     "name": "stdout",
     "output_type": "stream",
     "text": [
      "mark is 15 and percentage is 67\n"
     ]
    }
   ],
   "source": [
    "print(\"mark is {a} and percentage is {b}\".format(a=15, b=67))"
   ]
  },
  {
   "cell_type": "markdown",
   "metadata": {},
   "source": [
    "#### Exception handling"
   ]
  },
  {
   "cell_type": "code",
   "execution_count": 34,
   "metadata": {},
   "outputs": [],
   "source": [
    "def division(a,b):\n",
    "    try:\n",
    "        result = a/b\n",
    "    except ZeroDivisionError:\n",
    "         print(\"Can't devide with zero\")\n",
    "    except:\n",
    "        print(\"Not able to devide\")\n",
    "    else:\n",
    "        print(result)"
   ]
  },
  {
   "cell_type": "code",
   "execution_count": 37,
   "metadata": {},
   "outputs": [
    {
     "name": "stdout",
     "output_type": "stream",
     "text": [
      "Not able to devide\n"
     ]
    }
   ],
   "source": [
    "division(x,y)"
   ]
  },
  {
   "cell_type": "code",
   "execution_count": null,
   "metadata": {},
   "outputs": [],
   "source": []
  },
  {
   "cell_type": "code",
   "execution_count": null,
   "metadata": {},
   "outputs": [],
   "source": []
  },
  {
   "cell_type": "code",
   "execution_count": null,
   "metadata": {},
   "outputs": [],
   "source": []
  },
  {
   "cell_type": "code",
   "execution_count": 36,
   "metadata": {},
   "outputs": [],
   "source": [
    "x=10\n",
    "y=\"hi\""
   ]
  },
  {
   "cell_type": "code",
   "execution_count": null,
   "metadata": {},
   "outputs": [],
   "source": []
  }
 ],
 "metadata": {
  "kernelspec": {
   "display_name": "base",
   "language": "python",
   "name": "python3"
  },
  "language_info": {
   "codemirror_mode": {
    "name": "ipython",
    "version": 3
   },
   "file_extension": ".py",
   "mimetype": "text/x-python",
   "name": "python",
   "nbconvert_exporter": "python",
   "pygments_lexer": "ipython3",
   "version": "3.11.5"
  }
 },
 "nbformat": 4,
 "nbformat_minor": 2
}
